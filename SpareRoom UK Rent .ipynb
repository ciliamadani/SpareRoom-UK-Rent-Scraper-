{
 "cells": [
  {
   "cell_type": "code",
   "execution_count": 1,
   "metadata": {},
   "outputs": [
    {
     "name": "stderr",
     "output_type": "stream",
     "text": [
      "C:\\Users\\AzurComputer\\anaconda3\\lib\\site-packages\\requests\\__init__.py:89: RequestsDependencyWarning: urllib3 (1.26.12) or chardet (3.0.4) doesn't match a supported version!\n",
      "  warnings.warn(\"urllib3 ({}) or chardet ({}) doesn't match a supported \"\n"
     ]
    }
   ],
   "source": [
    "from bs4 import BeautifulSoup\n",
    "import requests\n",
    "import urllib.request\n",
    "import pandas as pd \n",
    "import time \n",
    "from bs4 import BeautifulSoup\n",
    "from selenium import webdriver\n",
    "from selenium.webdriver.common.by import By\n",
    "from selenium.webdriver.support import expected_conditions as EC\n",
    "from selenium.webdriver.support.ui import WebDriverWait\n"
   ]
  },
  {
   "cell_type": "code",
   "execution_count": 3,
   "metadata": {},
   "outputs": [],
   "source": [
    "url = \"https://www.spareroom.co.uk/flatshare/flatshare_detail.pl?flatshare_id=16457103&mode=contact&submode=bytel&flatshare_type=offered&search_id=1180342642&search_results=%2Fflatshare%2F%3Foffset%3D0%26search_id%3D1180342642%26sort_by%3Dby_day%26mode%3Dlist&city_id=9&featured=1&alert_id=&alert_type=&upgrade_required=1&\"\n",
    "values = {'login_email': \"\",\n",
    "          'login_password': \"\"}\n",
    "\n",
    "\n",
    "def get_phone_nbr(url):\n",
    "    chrome_options = webdriver.ChromeOptions()\n",
    "    chrome_options.add_argument(\"--disable-notifications\")\n",
    "    #r = requests.post(url, data=values)\n",
    "    browser = webdriver.Chrome(executable_path=\"C:\\\\Users\\\\AzurComputer\\\\Downloads\\\\chromedriver_win32\\\\chromedriver.exe\",chrome_options=chrome_options)\n",
    "\n",
    "    browser.get(url)\n",
    "\n",
    "    ## accept cookies \n",
    "    WebDriverWait(browser, 20).until(EC.element_to_be_clickable((By.XPATH,'//*[@id=\"onetrust-accept-btn-handler\"]'))).click()\n",
    "\n",
    "    ## change panel from signin to login\n",
    "    #browser.find_element(By.XPATH,'//*[@id=\"contact_form\"]/div/div/div[1]/button[2]').click()\n",
    "\n",
    "\n",
    "    WebDriverWait(browser, 30).until(EC.element_to_be_clickable((By.XPATH, '//*[@id=\"existinguserform\"]/fieldset/div[1]/div[2]/input'))).send_keys('ciliia.madanii@gmail.com')\n",
    "    browser.find_element(By.XPATH,'//*[@id=\"existinguserform\"]/fieldset/div[2]/div[2]/input[1]').send_keys('2Ad@.pCqZRJ$xpG')\n",
    "\n",
    "    browser.find_element(By.XPATH,'//*[@id=\"existinguserform\"]/fieldset/div[2]/div[2]/input[2]').click()\n",
    "\n",
    "    time.sleep(40)\n",
    "    soup = BeautifulSoup(browser.page_source,\"html.parser\")\n",
    "    phone_nbr1 = soup.find(\"div\", attrs={\"class\":\"button__content\"})\n",
    "    if(phone_nbr1!= None ):\n",
    "            phone_nbr = phone_nbr1.find('span', attrs={\"class\":\"button__text\"}).text.strip()\n",
    "    else:\n",
    "        phone_nbr = ''\n",
    "\n",
    "        \n",
    "    return phone_nbr"
   ]
  },
  {
   "cell_type": "code",
   "execution_count": null,
   "metadata": {},
   "outputs": [],
   "source": [
    "\n",
    "items =[]\n",
    "for i in range(0,160,10):\n",
    "    print(i)\n",
    "    URL = \"https://www.spareroom.co.uk/flatshare/?offset=\"+str(i)+\"&search_id=1180342642&sort_by=by_day&mode=list\"\n",
    "    print(URL)\n",
    "    browser = webdriver.Chrome(executable_path=\"C:\\\\Users\\\\AzurComputer\\\\Downloads\\\\chromedriver_win32\\\\chromedriver.exe\")\n",
    "    browser.get(URL)\n",
    "    soup = BeautifulSoup(browser.page_source,\"html.parser\")\n",
    "    items=items + soup.find_all(\"footer\", attrs={ \"class\":\"status_container\"})\n",
    "    "
   ]
  },
  {
   "cell_type": "code",
   "execution_count": null,
   "metadata": {},
   "outputs": [],
   "source": [
    "data  =[]\n",
    "i =0 \n",
    "for item in items:\n",
    "    \n",
    "    free_contact = item.find(\"span\", attrs={\"class\":\"freeContact status\"})\n",
    "    if free_contact != None: ## if free contact available\n",
    "        ## filttering the free contact \n",
    "        ########### GET URL ################\n",
    "        ## url of ads\n",
    "        url_ad = item.find_all('a', attrs={\"class\":\"more desktop\"})[0]['href']\n",
    "        url_ad='https://www.spareroom.co.uk'+url_ad\n",
    "        ######### GET AGENT NAME ###################\n",
    "        #print(url_ad)\n",
    "        \n",
    "        browser = webdriver.Chrome(executable_path=\"C:\\\\Users\\\\AzurComputer\\\\Downloads\\\\chromedriver_win32\\\\chromedriver.exe\")\n",
    "        browser.get(url_ad)\n",
    "        soup = BeautifulSoup(browser.page_source,\"html.parser\")\n",
    "\n",
    "        if (soup.find(\"strong\", attrs={ \"class\":\"profile-photo__name\"})!= None):\n",
    "            \n",
    "            agent_name=soup.find(\"strong\", attrs={ \"class\":\"profile-photo__name\"}).text\n",
    "        else:\n",
    "             agent_name=''\n",
    "        ######### GET PHONE NUMBER #################\n",
    "        if(soup.find(\"a\", attrs={ \"title\":\"Phone advertiser\"}) != None):\n",
    "            url_phone=soup.find(\"a\", attrs={ \"title\":\"Phone advertiser\"})['href']\n",
    "            url_phone='https://www.spareroom.co.uk'+ url_phone\n",
    "\n",
    "            #browser = webdriver.Chrome(executable_path=\"C:\\\\Users\\\\AzurComputer\\\\Downloads\\\\chromedriver_win32\\\\chromedriver.exe\")\n",
    "            #browser.get(url_phone)\n",
    "            #soup = BeautifulSoup(browser.page_source,\"html.parser\")\n",
    "            #phone_nbr=soup.find(\"a\", attrs={\"class\":\"brand-header__support-phone-number\"}).text\n",
    "            phone_nbr=get_phone_nbr(url_phone)\n",
    "            \n",
    "        else :\n",
    "            phone_nbr=''\n",
    "\n",
    "        ## append data list \n",
    "        data.append([url_ad, agent_name, phone_nbr])\n",
    "        i=i+1\n",
    "        \n",
    "        \n",
    "        print(i)\n",
    "\n",
    "\n",
    "    "
   ]
  }
 ],
 "metadata": {
  "celltoolbar": "Aucun(e)",
  "kernelspec": {
   "display_name": "Python 3",
   "language": "python",
   "name": "python3"
  },
  "language_info": {
   "codemirror_mode": {
    "name": "ipython",
    "version": 3
   },
   "file_extension": ".py",
   "mimetype": "text/x-python",
   "name": "python",
   "nbconvert_exporter": "python",
   "pygments_lexer": "ipython3",
   "version": "3.8.5"
  }
 },
 "nbformat": 4,
 "nbformat_minor": 4
}
